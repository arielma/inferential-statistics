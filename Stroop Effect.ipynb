{
 "cells": [
  {
   "cell_type": "markdown",
   "metadata": {},
   "source": [
    "# Stroop Effect \n",
    "In a Stroop task, participants are presented with a list of words, with each word displayed in a color of ink. The participant’s task is to say out loud the color of the ink in which the word is printed. The task has two conditions: a congruent words condition, and an incongruent words condition. In the congruent words condition, the words being displayed are color words whose names match the colors in which they are printed: for example <font color='red'>RED</font>, <font color='blue'>BLUE</font>. In the incongruent words condition, the words displayed are color words whose names do not match the colors in which they are printed: for example <font color='pink'>PURPLE</font>, <font color='green'>ORANGE</font>. In each case, the time it takes to name the ink colors in equally-sized lists. Each participant will go through and record a time from each condition.\n",
    "\n",
    "I tried out the stroop task [On this website](https://faculty.washington.edu/chudler/java/ready.html). I was asked to say the color of the 25 words in each group and recorded my time. Here are my results:  \n",
    "Congruent words: 12.236 seconds  \n",
    "Incongruent words: 26.956 seconds  \n",
    "\n",
    "In this project, I will use descriptive statistics and a statistical test to analyze the Stroop effect. My analysis will be demonstrated by answering the following set of questions."
   ]
  },
  {
   "cell_type": "markdown",
   "metadata": {},
   "source": [
    "#### 1. What is our independent variable? What is our dependent variable?\n",
    "\n",
    "Independent variable: whether the color that the word is respresenting and the ink color of the word match or not.  \n",
    "Dependent variable: Time it takes to name the ink colors in equally-sized lists.  \n",
    "    \n",
    "#### 2. What is an appropriate set of hypotheses for this task? What kind of statistical test do you expect to perform? Justify your choices.\n",
    "\n",
    "The statistical test I will conduct will be based on the following assumptions:\n",
    "1. The data is collected from a representative, randomly selected portion of the total population;\n",
    "2. The population distributions of both Congruent and Incongruent tasks are normal.  \n",
    "\n",
    "The null hypothesis $H_{0}$ is that comparing to the congruent words condition, the incongruent words condition will not signigicantly increase the population reaction time on the task; the alternative hypothesis $H_{a}$ is that comparing to the congruent words condition, the incongruent words condition will significantly increase\n",
    "the mean of the population reaction time of the task.\n",
    "$$H_{0}: \\mu_{incongruent} - \\mu_{congruent} \\leq 0$$\n",
    "$$H_{a}: \\mu_{incongruent} - \\mu_{congruent} \\gt 0$$\n",
    "\n",
    "I will perform a one-tailed dependent t-test for paired samples as\n",
    "- We want to approve if the time taken for the incongruent words condition task is longer than the congruent words condition task. Therefore we use the one-tailed statistical test.\n",
    "- The two samples under incongruent and congruent words conditions were taken from the same group of subjects. Therefore we use the dependent statistical test.\n",
    "- Our sample size is 24 and is less than 30. In addition, the population statistics are unknown. Therefore we use the t-test rather than z-test.\n",
    "\n",
    "The one-tailed dependent t-test will show if the mean response time of incongruent words condition task is statistically significantly longer than the response time of congruent words condition task at an alpha level of 0.05. \n",
    "\n",
    "\n",
    "#### 3. Report some descriptive statistics regarding this dataset. Include at least one measure of central tendency and at least one measure of variability.\n"
   ]
  },
  {
   "cell_type": "code",
   "execution_count": 109,
   "metadata": {
    "collapsed": true
   },
   "outputs": [],
   "source": [
    "%matplotlib inline\n",
    "\n",
    "import matplotlib.pyplot as plt\n",
    "import pandas as pd\n",
    "import numpy as np\n",
    "from scipy import stats\n",
    "from scipy.stats import t\n",
    "\n",
    "stroop = pd.read_csv(\"stroopEffect.csv\")"
   ]
  },
  {
   "cell_type": "code",
   "execution_count": 110,
   "metadata": {},
   "outputs": [
    {
     "data": {
      "text/html": [
       "<div>\n",
       "<style>\n",
       "    .dataframe thead tr:only-child th {\n",
       "        text-align: right;\n",
       "    }\n",
       "\n",
       "    .dataframe thead th {\n",
       "        text-align: left;\n",
       "    }\n",
       "\n",
       "    .dataframe tbody tr th {\n",
       "        vertical-align: top;\n",
       "    }\n",
       "</style>\n",
       "<table border=\"1\" class=\"dataframe\">\n",
       "  <thead>\n",
       "    <tr style=\"text-align: right;\">\n",
       "      <th></th>\n",
       "      <th>Congruent</th>\n",
       "      <th>Incongruent</th>\n",
       "    </tr>\n",
       "  </thead>\n",
       "  <tbody>\n",
       "    <tr>\n",
       "      <th>count</th>\n",
       "      <td>24.000000</td>\n",
       "      <td>24.000000</td>\n",
       "    </tr>\n",
       "    <tr>\n",
       "      <th>mean</th>\n",
       "      <td>14.051125</td>\n",
       "      <td>22.015917</td>\n",
       "    </tr>\n",
       "    <tr>\n",
       "      <th>std</th>\n",
       "      <td>3.559358</td>\n",
       "      <td>4.797057</td>\n",
       "    </tr>\n",
       "    <tr>\n",
       "      <th>min</th>\n",
       "      <td>8.630000</td>\n",
       "      <td>15.687000</td>\n",
       "    </tr>\n",
       "    <tr>\n",
       "      <th>25%</th>\n",
       "      <td>11.895250</td>\n",
       "      <td>18.716750</td>\n",
       "    </tr>\n",
       "    <tr>\n",
       "      <th>50%</th>\n",
       "      <td>14.356500</td>\n",
       "      <td>21.017500</td>\n",
       "    </tr>\n",
       "    <tr>\n",
       "      <th>75%</th>\n",
       "      <td>16.200750</td>\n",
       "      <td>24.051500</td>\n",
       "    </tr>\n",
       "    <tr>\n",
       "      <th>max</th>\n",
       "      <td>22.328000</td>\n",
       "      <td>35.255000</td>\n",
       "    </tr>\n",
       "  </tbody>\n",
       "</table>\n",
       "</div>"
      ],
      "text/plain": [
       "       Congruent  Incongruent\n",
       "count  24.000000    24.000000\n",
       "mean   14.051125    22.015917\n",
       "std     3.559358     4.797057\n",
       "min     8.630000    15.687000\n",
       "25%    11.895250    18.716750\n",
       "50%    14.356500    21.017500\n",
       "75%    16.200750    24.051500\n",
       "max    22.328000    35.255000"
      ]
     },
     "execution_count": 110,
     "metadata": {},
     "output_type": "execute_result"
    }
   ],
   "source": [
    "stroop.describe()"
   ]
  },
  {
   "cell_type": "code",
   "execution_count": 111,
   "metadata": {},
   "outputs": [
    {
     "data": {
      "text/plain": [
       "24"
      ]
     },
     "execution_count": 111,
     "metadata": {},
     "output_type": "execute_result"
    }
   ],
   "source": [
    "# Sample size\n",
    "sampleSize = len(stroop)\n",
    "sampleSize"
   ]
  },
  {
   "cell_type": "code",
   "execution_count": 112,
   "metadata": {},
   "outputs": [
    {
     "data": {
      "text/plain": [
       "14.051124999999999"
      ]
     },
     "execution_count": 112,
     "metadata": {},
     "output_type": "execute_result"
    }
   ],
   "source": [
    "# Mean response time of Congruent task\n",
    "meanCon = np.mean(stroop['Congruent'])\n",
    "meanCon"
   ]
  },
  {
   "cell_type": "code",
   "execution_count": 113,
   "metadata": {},
   "outputs": [
    {
     "data": {
      "text/plain": [
       "22.015916666666666"
      ]
     },
     "execution_count": 113,
     "metadata": {},
     "output_type": "execute_result"
    }
   ],
   "source": [
    "# Mean response time of Incogruent task\n",
    "meanIncon = np.mean(stroop['Incongruent'])\n",
    "meanIncon"
   ]
  },
  {
   "cell_type": "code",
   "execution_count": 114,
   "metadata": {},
   "outputs": [
    {
     "data": {
      "text/plain": [
       "7.9647916666666667"
      ]
     },
     "execution_count": 114,
     "metadata": {},
     "output_type": "execute_result"
    }
   ],
   "source": [
    "# Mean difference of Incongruent and Congruent tasks\n",
    "meanDiff = meanIncon - meanCon\n",
    "meanDiff"
   ]
  },
  {
   "cell_type": "code",
   "execution_count": 115,
   "metadata": {},
   "outputs": [
    {
     "data": {
      "text/plain": [
       "3.5593579576451955"
      ]
     },
     "execution_count": 115,
     "metadata": {},
     "output_type": "execute_result"
    }
   ],
   "source": [
    "# Sample standard deviation of Congruent task\n",
    "sdCon = np.std(stroop['Congruent'], ddof = 1)\n",
    "sdCon"
   ]
  },
  {
   "cell_type": "code",
   "execution_count": 116,
   "metadata": {},
   "outputs": [
    {
     "data": {
      "text/plain": [
       "4.7970571224691376"
      ]
     },
     "execution_count": 116,
     "metadata": {},
     "output_type": "execute_result"
    }
   ],
   "source": [
    "# Sample standard deviation of Incongruent task\n",
    "sdIncon = np.std(stroop['Incongruent'], ddof = 1)\n",
    "sdIncon"
   ]
  },
  {
   "cell_type": "markdown",
   "metadata": {},
   "source": [
    "Now I want to add a new column Difference to show $t_{incongruent} - t_{congruent}$"
   ]
  },
  {
   "cell_type": "code",
   "execution_count": 117,
   "metadata": {},
   "outputs": [
    {
     "name": "stdout",
     "output_type": "stream",
     "text": [
      "    Congruent  Incongruent  Difference\n",
      "0      12.079       19.278       7.199\n",
      "1      16.791       18.741       1.950\n",
      "2       9.564       21.214      11.650\n",
      "3       8.630       15.687       7.057\n",
      "4      14.669       22.803       8.134\n",
      "5      12.238       20.878       8.640\n",
      "6      14.692       24.572       9.880\n",
      "7       8.987       17.394       8.407\n",
      "8       9.401       20.762      11.361\n",
      "9      14.480       26.282      11.802\n",
      "10     22.328       24.524       2.196\n",
      "11     15.298       18.644       3.346\n",
      "12     15.073       17.510       2.437\n",
      "13     16.929       20.330       3.401\n",
      "14     18.200       35.255      17.055\n",
      "15     12.130       22.158      10.028\n",
      "16     18.495       25.139       6.644\n",
      "17     10.639       20.429       9.790\n",
      "18     11.344       17.425       6.081\n",
      "19     12.369       34.288      21.919\n",
      "20     12.944       23.894      10.950\n",
      "21     14.233       17.960       3.727\n",
      "22     19.710       22.058       2.348\n",
      "23     16.004       21.157       5.153\n"
     ]
    }
   ],
   "source": [
    "# Adding the column of difference\n",
    "stroop['Difference'] = stroop['Incongruent'] - stroop['Congruent']\n",
    "print(stroop)"
   ]
  },
  {
   "cell_type": "code",
   "execution_count": 118,
   "metadata": {},
   "outputs": [
    {
     "data": {
      "text/plain": [
       "4.8648269103590556"
      ]
     },
     "execution_count": 118,
     "metadata": {},
     "output_type": "execute_result"
    }
   ],
   "source": [
    "# Standard deviation of difference\n",
    "sdDiff = np.std(stroop['Difference'], ddof = 1)\n",
    "sdDiff"
   ]
  },
  {
   "cell_type": "markdown",
   "metadata": {},
   "source": [
    "#### 4. Provide one or two visualizations that show the distribution of the sample data. Write one or two sentences noting what you observe about the plot or plots.\n"
   ]
  },
  {
   "cell_type": "code",
   "execution_count": 119,
   "metadata": {},
   "outputs": [
    {
     "data": {
      "text/plain": [
       "<matplotlib.axes._subplots.AxesSubplot at 0x1221791d0>"
      ]
     },
     "execution_count": 119,
     "metadata": {},
     "output_type": "execute_result"
    },
    {
     "data": {
      "image/png": "[encoded data removed]",
      "text/plain": [
       "<Figure size 720x576 with 1 Axes>"
      ]
     },
     "metadata": {},
     "output_type": "display_data"
    }
   ],
   "source": [
    "plt.figure(figsize=(10,8))\n",
    "stroop.boxplot(['Congruent', 'Incongruent'])"
   ]
  },
  {
   "cell_type": "markdown",
   "metadata": {},
   "source": [
    "From the box plot we can see that the mean response time of the Incongruent group is obviously larger than the mean response time of the Congruent group. Although this might because of the two outliers in the Incongruent group that skew the mean response time of the Incongruent group. "
   ]
  },
  {
   "cell_type": "code",
   "execution_count": 120,
   "metadata": {},
   "outputs": [
    {
     "data": {
      "text/plain": [
       "<matplotlib.legend.Legend at 0x12269a470>"
      ]
     },
     "execution_count": 120,
     "metadata": {},
     "output_type": "execute_result"
    },
    {
     "data": {
      "image/png": "[encoded data removed]",
      "text/plain": [
       "<Figure size 720x576 with 1 Axes>"
      ]
     },
     "metadata": {},
     "output_type": "display_data"
    }
   ],
   "source": [
    "plt.figure(figsize=(10,8))\n",
    "result = plt.hist([stroop['Congruent'], stroop['Incongruent']], bins=20, color=['c', 'b'], edgecolor='k', alpha=0.65, label = ['Congruent', 'Incongruent'])\n",
    "\n",
    "plt.axvline(stroop['Congruent'].mean(), color='c', linestyle='dashed', linewidth=2, label = 'Mean Congruent')\n",
    "plt.axvline(stroop['Incongruent'].mean(), color='b', linestyle='dashed', linewidth=2, label = 'Mean Incongruent')\n",
    "\n",
    "plt.axvline(stroop['Congruent'].median(), color='c', linestyle='solid', linewidth=2, label = 'Median Congruent')\n",
    "plt.axvline(stroop['Incongruent'].median(), color='b', linestyle='solid', linewidth=2, label = 'Median Incongruent')\n",
    "\n",
    "plt.xlabel('Time taken to name the ink color in seconds')\n",
    "plt.ylabel('Number of subjects')\n",
    "plt.legend()"
   ]
  },
  {
   "cell_type": "markdown",
   "metadata": {},
   "source": [
    "From the histograms we can prove our conclusion from the box plot that the mean response time of the Incongruent group is skewed by the two outliers as the mean of the Incogruent group is larger than the group's median response time. Whereas the mean and median response time for Congruent group are almost identical."
   ]
  },
  {
   "cell_type": "markdown",
   "metadata": {},
   "source": [
    "\n",
    "#### 5. Now, perform the statistical test and report your results. What is your confidence level and your critical statistic value? Do you reject the null hypothesis or fail to reject it? Come to a conclusion in terms of the experiment task. Did the results match up with your expectations?\n"
   ]
  },
  {
   "cell_type": "markdown",
   "metadata": {},
   "source": [
    "First I will get the $t_{critical}$ at $\\alpha = 0.05$."
   ]
  },
  {
   "cell_type": "code",
   "execution_count": 121,
   "metadata": {},
   "outputs": [
    {
     "data": {
      "text/plain": [
       "1.7138715277470473"
      ]
     },
     "execution_count": 121,
     "metadata": {},
     "output_type": "execute_result"
    }
   ],
   "source": [
    "# Compute the t-critical value at alpha = 0.05\n",
    "t_critical_alpha = stats.t.ppf(1-0.05, 23)\n",
    "t_critical_alpha"
   ]
  },
  {
   "cell_type": "markdown",
   "metadata": {},
   "source": [
    "Now get the Degree of Freedom"
   ]
  },
  {
   "cell_type": "code",
   "execution_count": 122,
   "metadata": {},
   "outputs": [
    {
     "data": {
      "text/plain": [
       "23"
      ]
     },
     "execution_count": 122,
     "metadata": {},
     "output_type": "execute_result"
    }
   ],
   "source": [
    "# Degree of freedom\n",
    "df = sampleSize - 1\n",
    "df"
   ]
  },
  {
   "cell_type": "markdown",
   "metadata": {},
   "source": [
    "To calculate the Standard Error of Mean Difference:"
   ]
  },
  {
   "cell_type": "code",
   "execution_count": 123,
   "metadata": {},
   "outputs": [
    {
     "data": {
      "text/plain": [
       "0.99302863477834058"
      ]
     },
     "execution_count": 123,
     "metadata": {},
     "output_type": "execute_result"
    }
   ],
   "source": [
    "# Standard Error of the mean difference\n",
    "seMeanDiff = sdDiff/(sampleSize**(1/2.0))\n",
    "seMeanDiff"
   ]
  },
  {
   "cell_type": "markdown",
   "metadata": {},
   "source": [
    "From the Standard Error of Mean Difference, we can now calculate the $t_{statistics}$:"
   ]
  },
  {
   "cell_type": "code",
   "execution_count": 124,
   "metadata": {},
   "outputs": [
    {
     "data": {
      "text/plain": [
       "8.020706944109957"
      ]
     },
     "execution_count": 124,
     "metadata": {},
     "output_type": "execute_result"
    }
   ],
   "source": [
    "# t-statistics value\n",
    "t_statistics = (meanIncon - meanCon)/seMeanDiff\n",
    "t_statistics"
   ]
  },
  {
   "cell_type": "markdown",
   "metadata": {},
   "source": [
    "We can see that $$t_{statistics} > t_{critical\\_alpha}$$"
   ]
  },
  {
   "cell_type": "code",
   "execution_count": 125,
   "metadata": {},
   "outputs": [
    {
     "data": {
      "text/plain": [
       "Ttest_relResult(statistic=8.020706944109957, pvalue=4.1030005857111781e-08)"
      ]
     },
     "execution_count": 125,
     "metadata": {},
     "output_type": "execute_result"
    }
   ],
   "source": [
    "stats.ttest_rel(stroop['Incongruent'],stroop['Congruent'])"
   ]
  },
  {
   "cell_type": "markdown",
   "metadata": {},
   "source": [
    "The one-tailed t-test with $t_{statistics} = 8.021$ will have a P_value of 2.05e-08. This value is obviously less than 0.05. \n",
    "\n",
    "### Conclusion\n",
    "What we learned from the above statistical test is that for the one-tailed dependent t-test of paired samples, with the $\\alpha$ level of 0.05, the $t_{statistics}$ value is 8.021 and is greater than the $t_{critical}$ value 1.714. The P-value under the $t_{statistics}$ is 2.05e-08 and is less than P-value of 0.05. Therefore we will reject the null hyopthesis $H_{0}$ in favor of the alternative hypothesis $H_{a}$ to conclude that the reaction time of the incongruent words condition task is significantly longer than that of the congruent words condition. The Stroop Effetct definitely increases people's reaction time of telling the ink color of the words."
   ]
  },
  {
   "cell_type": "markdown",
   "metadata": {},
   "source": [
    "### References\n",
    "1. scipy t test: https://docs.scipy.org/doc/scipy-0.14.0/reference/generated/scipy.stats.ttest_rel.html\n",
    "2. LaTex Cheat Sheet: https://www.nyu.edu/projects/beber/files/Chang_LaTeX_sheet.pdf\n",
    "3. Matplotlib Histogram: https://stackoverflow.com/questions/16180946/drawing-average-line-in-histogram-matplotlib\n",
    "4. Matplotlib Reference Line: https://matplotlib.org/api/_as_gen/matplotlib.axes.Axes.axvline.html"
   ]
  }
 ],
 "metadata": {
  "kernelspec": {
   "display_name": "Python [conda env:py3.6]",
   "language": "python",
   "name": "conda-env-py3.6-py"
  },
  "language_info": {
   "codemirror_mode": {
    "name": "ipython",
    "version": 3
   },
   "file_extension": ".py",
   "mimetype": "text/x-python",
   "name": "python",
   "nbconvert_exporter": "python",
   "pygments_lexer": "ipython3",
   "version": "3.6.2"
  }
 },
 "nbformat": 4,
 "nbformat_minor": 2
}
